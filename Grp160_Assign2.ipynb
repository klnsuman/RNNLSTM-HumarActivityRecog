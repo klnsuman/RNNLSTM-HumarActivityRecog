{
 "cells": [
  {
   "cell_type": "markdown",
   "metadata": {
    "id": "CfMVKrs4Oqn2"
   },
   "source": [
    "# **HUMAN ACTIVITY RECOGNITION**\n",
    "### **Group 160 - DL Assignment II**\n",
    "1.  Sagnik Ghosh          2018ah04573\n",
    "2.  K Laxmi Narasimha Rao 2018ah04599\n",
    "3.  M Naveen              2018ah04543 \n"
   ]
  },
  {
   "cell_type": "code",
   "execution_count": 6,
   "metadata": {
    "id": "4LON0dI5c-FV"
   },
   "outputs": [],
   "source": []
  },
  {
   "cell_type": "markdown",
   "metadata": {
    "id": "Okr8YRzKRnH6"
   },
   "source": [
    "# **1. Import Required Libraries**"
   ]
  },
  {
   "cell_type": "code",
   "execution_count": 7,
   "metadata": {
    "id": "9Izm6HAhRt24"
   },
   "outputs": [],
   "source": [
    "import pandas as pd\n",
    "import keras\n",
    "\n",
    "import numpy as np\n",
    "\n",
    "import tensorflow as tf\n",
    "\n",
    "from tensorflow.keras import layers\n",
    "from tensorflow.keras import models\n",
    "\n",
    "from keras.preprocessing.image import ImageDataGenerator\n",
    "from keras.models import Sequential\n",
    "from keras.layers import Dense, Dropout, Activation, Flatten\n",
    "from keras.layers import Conv2D, MaxPooling2D\n",
    "from numpy import dstack\n",
    "from pandas import read_csv\n",
    "\n",
    "from keras.utils import to_categorical\n",
    "import os\n",
    "import matplotlib.pyplot as plt\n",
    "from keras.models import Sequential\n",
    "from keras.layers import Dense\n",
    "from keras.layers import Flatten\n",
    "from keras.layers import Dropout\n",
    "from keras.layers import LSTM\n",
    "from keras.layers import TimeDistributed\n",
    "from keras.layers import ConvLSTM2D\n",
    "from numpy import mean\n",
    "from numpy import std\n",
    "from numpy import dstack\n",
    "from sklearn.metrics import confusion_matrix\n",
    "import seaborn as sns"
   ]
  },
  {
   "cell_type": "code",
   "execution_count": 8,
   "metadata": {
    "colab": {
     "base_uri": "https://localhost:8080/"
    },
    "id": "EUqQkBp1Rusp",
    "outputId": "f7ab9c41-27b8-4866-e0b0-977c261d3907"
   },
   "outputs": [
    {
     "name": "stdout",
     "output_type": "stream",
     "text": [
      "Tue Jan 19 15:50:20 2021       \n",
      "+-----------------------------------------------------------------------------+\n",
      "| NVIDIA-SMI 460.27.04    Driver Version: 418.67       CUDA Version: 10.1     |\n",
      "|-------------------------------+----------------------+----------------------+\n",
      "| GPU  Name        Persistence-M| Bus-Id        Disp.A | Volatile Uncorr. ECC |\n",
      "| Fan  Temp  Perf  Pwr:Usage/Cap|         Memory-Usage | GPU-Util  Compute M. |\n",
      "|                               |                      |               MIG M. |\n",
      "|===============================+======================+======================|\n",
      "|   0  Tesla T4            Off  | 00000000:00:04.0 Off |                    0 |\n",
      "| N/A   74C    P0    34W /  70W |    229MiB / 15079MiB |      0%      Default |\n",
      "|                               |                      |                 ERR! |\n",
      "+-------------------------------+----------------------+----------------------+\n",
      "                                                                               \n",
      "+-----------------------------------------------------------------------------+\n",
      "| Processes:                                                                  |\n",
      "|  GPU   GI   CI        PID   Type   Process name                  GPU Memory |\n",
      "|        ID   ID                                                   Usage      |\n",
      "|=============================================================================|\n",
      "|  No running processes found                                                 |\n",
      "+-----------------------------------------------------------------------------+\n"
     ]
    }
   ],
   "source": [
    "!nvidia-smi"
   ]
  },
  {
   "cell_type": "code",
   "execution_count": 9,
   "metadata": {
    "colab": {
     "base_uri": "https://localhost:8080/"
    },
    "id": "G694Ya8LdEUM",
    "outputId": "0bfc70a4-eb11-499a-8eb3-f70055862285"
   },
   "outputs": [
    {
     "name": "stdout",
     "output_type": "stream",
     "text": [
      "GPU is available\n"
     ]
    }
   ],
   "source": [
    "print(\"GPU is\", \"available\" if tf.config.list_physical_devices('GPU') else \"NOT AVAILABLE\")"
   ]
  },
  {
   "cell_type": "code",
   "execution_count": 10,
   "metadata": {
    "colab": {
     "base_uri": "https://localhost:8080/"
    },
    "id": "JVaMKr5ldKtn",
    "outputId": "46127ea2-b5fc-4e1c-8ff3-9517885e9a4c"
   },
   "outputs": [
    {
     "name": "stdout",
     "output_type": "stream",
     "text": [
      "Downloaded content \"Hellow World\"\n"
     ]
    }
   ],
   "source": [
    "# Import PyDrive and associated libraries.\n",
    "# This only needs to be done once per notebook.\n",
    "from pydrive.auth import GoogleAuth\n",
    "from pydrive.drive import GoogleDrive\n",
    "from google.colab import auth\n",
    "from oauth2client.client import GoogleCredentials\n",
    "\n",
    "# Authenticate and create the PyDrive client.\n",
    "# This only needs to be done once per notebook.\n",
    "auth.authenticate_user()\n",
    "gauth = GoogleAuth()\n",
    "gauth.credentials = GoogleCredentials.get_application_default()\n",
    "drive = GoogleDrive(gauth)\n",
    "\n",
    "# Download a file based on its file ID.\n",
    "#\n",
    "# A file ID looks like: laggVyWshwcyP6kEI-y_W3P8D26sz\n",
    "file_id = '1tnQPfAconuACqRfIm0lC7zwJFd0LFj8N'\n",
    "downloaded = drive.CreateFile({'id': file_id})\n",
    "print('Downloaded content \"{}\"'.format(downloaded.GetContentString()))"
   ]
  },
  {
   "cell_type": "code",
   "execution_count": 11,
   "metadata": {
    "colab": {
     "base_uri": "https://localhost:8080/"
    },
    "id": "EpjNI_N6dUWp",
    "outputId": "d6124e98-7e45-4eb2-9ce0-b14a3daca63d"
   },
   "outputs": [
    {
     "name": "stdout",
     "output_type": "stream",
     "text": [
      "Drive already mounted at /content/drive; to attempt to forcibly remount, call drive.mount(\"/content/drive\", force_remount=True).\n"
     ]
    }
   ],
   "source": [
    "from google.colab import drive\n",
    "drive.mount('/content/drive')"
   ]
  },
  {
   "cell_type": "code",
   "execution_count": 12,
   "metadata": {
    "colab": {
     "base_uri": "https://localhost:8080/",
     "height": 35
    },
    "id": "fF2CFv0QgYug",
    "outputId": "68b14ec3-ff54-4a30-f0b7-31dc1605c2ed"
   },
   "outputs": [
    {
     "data": {
      "application/vnd.google.colaboratory.intrinsic+json": {
       "type": "string"
      },
      "text/plain": [
       "'/device:GPU:0'"
      ]
     },
     "execution_count": 12,
     "metadata": {
      "tags": []
     },
     "output_type": "execute_result"
    }
   ],
   "source": [
    "#Check the GPU available\n",
    "tf.test.gpu_device_name()"
   ]
  },
  {
   "cell_type": "code",
   "execution_count": 13,
   "metadata": {
    "id": "cRo_XQ5-ddab"
   },
   "outputs": [],
   "source": [
    "import os\n",
    "os.chdir('/content/drive/My Drive/HARDataset/train/Inertial Signals')"
   ]
  },
  {
   "cell_type": "code",
   "execution_count": 14,
   "metadata": {
    "colab": {
     "base_uri": "https://localhost:8080/"
    },
    "id": "Z8GTozDTfFAN",
    "outputId": "be53ea12-287f-4d03-a070-60d8bac6a807"
   },
   "outputs": [
    {
     "name": "stdout",
     "output_type": "stream",
     "text": [
      "/content/drive/My Drive/HARDataset/train/Inertial Signals\n"
     ]
    }
   ],
   "source": [
    "!pwd"
   ]
  },
  {
   "cell_type": "code",
   "execution_count": 15,
   "metadata": {
    "id": "uq6TNKsWgCYm"
   },
   "outputs": [],
   "source": [
    "from pandas import read_csv\n",
    "body_acc_x=read_csv('body_acc_x_train.txt', header=None, delim_whitespace=True)"
   ]
  },
  {
   "cell_type": "markdown",
   "metadata": {
    "id": "ZcB12pfqhGUa"
   },
   "source": [
    "### Load a single file as a numpy array"
   ]
  },
  {
   "cell_type": "markdown",
   "metadata": {
    "id": "LuVQnKk3Ryvd"
   },
   "source": [
    "# **2.  Data Pre-Processing**"
   ]
  },
  {
   "cell_type": "code",
   "execution_count": 16,
   "metadata": {
    "id": "1844_673gQM4"
   },
   "outputs": [],
   "source": [
    "# load a single file as a numpy array\n",
    "def load_file(filepath):\n",
    "  print (filepath)\n",
    "  dataframe = read_csv(filepath, header=None, delim_whitespace=True)\n",
    "  return dataframe.values"
   ]
  },
  {
   "cell_type": "markdown",
   "metadata": {
    "id": "5rgaFY2PhLQW"
   },
   "source": [
    "### Load a list of files and return as a 3d numpy array"
   ]
  },
  {
   "cell_type": "code",
   "execution_count": 17,
   "metadata": {
    "id": "UcTtFSKxhCG-"
   },
   "outputs": [],
   "source": [
    "def load_group(filenames, prefix=''):\n",
    "  loaded = list()\n",
    "  for name in filenames:\n",
    "    data = load_file(prefix + name)\n",
    "    loaded.append(data)\n",
    "  # stack group so that features are the 3rd dimension\n",
    "  loaded = dstack(loaded)\n",
    "  return loaded"
   ]
  },
  {
   "cell_type": "markdown",
   "metadata": {
    "id": "wqAnt-G6hfUL"
   },
   "source": [
    "### Load a dataset group, such as train or test"
   ]
  },
  {
   "cell_type": "code",
   "execution_count": 18,
   "metadata": {
    "id": "Yqv4usmkhcEY"
   },
   "outputs": [],
   "source": [
    "\n",
    "def load_dataset_group(group, prefix=''):\n",
    "\tfilepath = prefix + group + '/Inertial Signals/'\n",
    "\t# load all 9 files as a single array\n",
    "\tfilenames = list()\n",
    "\t# total acceleration\n",
    "\tfilenames += ['total_acc_x_'+group+'.txt', 'total_acc_y_'+group+'.txt', 'total_acc_z_'+group+'.txt']\n",
    "\t# body acceleration\n",
    "\tfilenames += ['body_acc_x_'+group+'.txt', 'body_acc_y_'+group+'.txt', 'body_acc_z_'+group+'.txt']\n",
    "\t# body gyroscope\n",
    "\tfilenames += ['body_gyro_x_'+group+'.txt', 'body_gyro_y_'+group+'.txt', 'body_gyro_z_'+group+'.txt']\n",
    "\t# load input data\n",
    "\tX = load_group(filenames, filepath)\n",
    "\t# load class output\n",
    "\ty = load_file(prefix + group + '/y_'+group+'.txt')\n",
    "\treturn X, y\n",
    "\n"
   ]
  },
  {
   "cell_type": "markdown",
   "metadata": {
    "id": "gkDZXFXoh2Bm"
   },
   "source": [
    "### Load the dataset, returns train and test X and y elements"
   ]
  },
  {
   "cell_type": "code",
   "execution_count": 19,
   "metadata": {
    "id": "PVGJMLvohzeq"
   },
   "outputs": [],
   "source": [
    "\n",
    "def load_dataset(prefix='/content/drive/My Drive/'):\n",
    "#def load_dataset(prefix='C:/Saggy/hahaha/Courses/BITS_Pilani_DataScience/Semester3/DL/Assignments/2/assginment_2/'):  \n",
    "\t# load all train\n",
    "\ttrainX, trainy = load_dataset_group('train', prefix + 'HARDataset/')\n",
    "\tprint(trainX.shape, trainy.shape)\n",
    "\t# load all test\n",
    "\ttestX, testy = load_dataset_group('test', prefix + 'HARDataset/')\n",
    "\tprint(testX.shape, testy.shape)\n",
    "\t# zero-offset class values\n",
    "\ttrainy = trainy - 1\n",
    "\ttesty = testy - 1\n",
    "\t# one hot encode y\n",
    "\ttrainy = to_categorical(trainy)\n",
    "\ttesty = to_categorical(testy)\n",
    "\tprint(trainX.shape, trainy.shape, testX.shape, testy.shape)\n",
    "\treturn trainX, trainy, testX, testy\n",
    "\n",
    "\n"
   ]
  },
  {
   "cell_type": "code",
   "execution_count": 20,
   "metadata": {
    "colab": {
     "base_uri": "https://localhost:8080/"
    },
    "id": "eFQ6ThWDiHpM",
    "outputId": "2ab70e86-019f-4ef5-adc7-16ea08abda5d"
   },
   "outputs": [
    {
     "name": "stdout",
     "output_type": "stream",
     "text": [
      "/content/drive/My Drive/HARDataset/train/Inertial Signals/total_acc_x_train.txt\n",
      "/content/drive/My Drive/HARDataset/train/Inertial Signals/total_acc_y_train.txt\n",
      "/content/drive/My Drive/HARDataset/train/Inertial Signals/total_acc_z_train.txt\n",
      "/content/drive/My Drive/HARDataset/train/Inertial Signals/body_acc_x_train.txt\n",
      "/content/drive/My Drive/HARDataset/train/Inertial Signals/body_acc_y_train.txt\n",
      "/content/drive/My Drive/HARDataset/train/Inertial Signals/body_acc_z_train.txt\n",
      "/content/drive/My Drive/HARDataset/train/Inertial Signals/body_gyro_x_train.txt\n",
      "/content/drive/My Drive/HARDataset/train/Inertial Signals/body_gyro_y_train.txt\n",
      "/content/drive/My Drive/HARDataset/train/Inertial Signals/body_gyro_z_train.txt\n",
      "/content/drive/My Drive/HARDataset/train/y_train.txt\n",
      "(7352, 128, 9) (7352, 1)\n",
      "/content/drive/My Drive/HARDataset/test/Inertial Signals/total_acc_x_test.txt\n",
      "/content/drive/My Drive/HARDataset/test/Inertial Signals/total_acc_y_test.txt\n",
      "/content/drive/My Drive/HARDataset/test/Inertial Signals/total_acc_z_test.txt\n",
      "/content/drive/My Drive/HARDataset/test/Inertial Signals/body_acc_x_test.txt\n",
      "/content/drive/My Drive/HARDataset/test/Inertial Signals/body_acc_y_test.txt\n",
      "/content/drive/My Drive/HARDataset/test/Inertial Signals/body_acc_z_test.txt\n",
      "/content/drive/My Drive/HARDataset/test/Inertial Signals/body_gyro_x_test.txt\n",
      "/content/drive/My Drive/HARDataset/test/Inertial Signals/body_gyro_y_test.txt\n",
      "/content/drive/My Drive/HARDataset/test/Inertial Signals/body_gyro_z_test.txt\n",
      "/content/drive/My Drive/HARDataset/test/y_test.txt\n",
      "(2947, 128, 9) (2947, 1)\n",
      "(7352, 128, 9) (7352, 6) (2947, 128, 9) (2947, 6)\n"
     ]
    }
   ],
   "source": [
    "trainX, trainy, testX, testy = load_dataset()"
   ]
  },
  {
   "cell_type": "code",
   "execution_count": 21,
   "metadata": {
    "colab": {
     "base_uri": "https://localhost:8080/"
    },
    "id": "ghLVcuIGjeOF",
    "outputId": "e71624ef-d998-444e-e5bb-f1fa2e187376"
   },
   "outputs": [
    {
     "data": {
      "text/plain": [
       "array([[[ 1.012817e+00, -1.232167e-01,  1.029341e-01, ...,\n",
       "          3.019122e-02,  6.601362e-02,  2.285864e-02],\n",
       "        [ 1.022833e+00, -1.268756e-01,  1.056872e-01, ...,\n",
       "          4.371071e-02,  4.269897e-02,  1.031572e-02],\n",
       "        [ 1.022028e+00, -1.240037e-01,  1.021025e-01, ...,\n",
       "          3.568780e-02,  7.485018e-02,  1.324969e-02],\n",
       "        ...,\n",
       "        [ 1.018445e+00, -1.240696e-01,  1.003852e-01, ...,\n",
       "          3.985177e-02,  1.909445e-03, -2.170124e-03],\n",
       "        [ 1.019372e+00, -1.227451e-01,  9.987355e-02, ...,\n",
       "          3.744932e-02, -7.982483e-05, -5.642633e-03],\n",
       "        [ 1.021171e+00, -1.213260e-01,  9.498741e-02, ...,\n",
       "          2.881781e-02, -3.771800e-05, -1.446006e-03]],\n",
       "\n",
       "       [[ 1.018851e+00, -1.239760e-01,  9.792958e-02, ...,\n",
       "          1.711106e-02,  6.122797e-03,  1.226815e-02],\n",
       "        [ 1.022380e+00, -1.268078e-01,  9.935086e-02, ...,\n",
       "          2.417851e-02,  9.710357e-03,  1.614958e-02],\n",
       "        [ 1.020781e+00, -1.277862e-01,  9.811381e-02, ...,\n",
       "          3.022889e-02,  1.032192e-02,  1.589471e-02],\n",
       "        ...,\n",
       "        [ 1.014788e+00, -1.290268e-01,  9.353520e-02, ...,\n",
       "         -3.474078e-02, -8.694754e-03,  5.044730e-03],\n",
       "        [ 1.016499e+00, -1.264244e-01,  8.903516e-02, ...,\n",
       "         -3.797305e-02, -1.165249e-02, -4.424329e-03],\n",
       "        [ 1.017849e+00, -1.305193e-01,  9.061235e-02, ...,\n",
       "         -3.864973e-02, -9.440197e-03, -2.797817e-03]],\n",
       "\n",
       "       [[ 1.023127e+00, -1.200157e-01,  9.111667e-02, ...,\n",
       "          2.618877e-02, -2.383410e-04,  2.158897e-03],\n",
       "        [ 1.021882e+00, -1.214994e-01,  9.267560e-02, ...,\n",
       "          2.165149e-02, -4.275982e-04, -2.724752e-04],\n",
       "        [ 1.019178e+00, -1.228407e-01,  9.606378e-02, ...,\n",
       "          1.455062e-02,  7.611350e-04,  2.630986e-03],\n",
       "        ...,\n",
       "        [ 1.021041e+00, -1.308757e-01,  8.301135e-02, ...,\n",
       "         -2.090983e-02, -1.005391e-02, -5.566286e-03],\n",
       "        [ 1.022935e+00, -1.312099e-01,  8.233391e-02, ...,\n",
       "         -2.211369e-02, -9.717281e-03, -3.701625e-03],\n",
       "        [ 1.022019e+00, -1.301826e-01,  8.148748e-02, ...,\n",
       "         -2.023537e-02, -8.831462e-03, -2.644745e-03]],\n",
       "\n",
       "       ...,\n",
       "\n",
       "       [[ 7.548917e-01, -1.711829e-01,  1.745865e-01, ...,\n",
       "          1.183561e-01,  4.267019e-01,  3.008475e-01],\n",
       "        [ 8.043137e-01, -1.999375e-01,  2.324243e-01, ...,\n",
       "          1.378901e-01,  3.223201e-01,  3.511780e-01],\n",
       "        [ 8.317140e-01, -2.319457e-01,  2.576066e-01, ...,\n",
       "          1.774201e-01,  2.331586e-01,  2.723513e-01],\n",
       "        ...,\n",
       "        [ 6.956257e-01, -2.217656e-01,  1.112952e-01, ...,\n",
       "         -7.609545e-01,  6.840804e-01,  2.543444e-01],\n",
       "        [ 7.479103e-01, -2.811496e-01,  1.263023e-01, ...,\n",
       "         -6.779630e-01,  6.291636e-01,  2.814308e-01],\n",
       "        [ 7.767680e-01, -3.275988e-01,  1.886212e-01, ...,\n",
       "         -6.275012e-01,  4.812542e-01,  2.542062e-01]],\n",
       "\n",
       "       [[ 9.279268e-01, -2.238010e-01,  2.628140e-01, ...,\n",
       "         -3.788723e-01,  1.642781e-01,  2.175042e-01],\n",
       "        [ 9.129872e-01, -2.210407e-01,  2.954154e-01, ...,\n",
       "         -3.738884e-01,  6.393670e-02,  1.584971e-01],\n",
       "        [ 9.246597e-01, -1.839923e-01,  3.376098e-01, ...,\n",
       "         -3.301252e-01, -9.430612e-02,  1.868787e-01],\n",
       "        ...,\n",
       "        [ 6.753473e-01, -1.620087e-01,  1.289247e-01, ...,\n",
       "         -4.254607e-01,  6.504409e-01,  1.762117e-01],\n",
       "        [ 6.603377e-01, -2.020367e-01,  1.722512e-01, ...,\n",
       "         -4.755471e-01,  4.097342e-01,  1.635609e-01],\n",
       "        [ 7.193530e-01, -2.291273e-01,  2.100712e-01, ...,\n",
       "         -4.129589e-01,  1.998230e-01,  1.887340e-01]],\n",
       "\n",
       "       [[ 7.980909e-01, -3.060512e-01,  2.093865e-01, ...,\n",
       "         -4.767788e-01,  2.889329e-01,  2.277976e-01],\n",
       "        [ 8.192417e-01, -2.666046e-01,  2.310711e-01, ...,\n",
       "         -2.679120e-01,  1.712000e-01,  1.034757e-01],\n",
       "        [ 8.658821e-01, -2.053607e-01,  3.341906e-01, ...,\n",
       "         -1.905664e-01,  1.424723e-01, -7.565458e-02],\n",
       "        ...,\n",
       "        [ 8.980947e-01, -3.977751e-01, -1.561050e-01, ...,\n",
       "          1.004855e+00,  1.156645e+00, -3.625121e-01],\n",
       "        [ 8.283723e-01, -3.492473e-01, -1.227979e-01, ...,\n",
       "          1.015589e+00,  1.100750e+00, -3.839895e-01],\n",
       "        [ 8.002428e-01, -3.323721e-01, -8.357159e-02, ...,\n",
       "          1.047599e+00,  1.011324e+00, -3.358840e-01]]])"
      ]
     },
     "execution_count": 21,
     "metadata": {
      "tags": []
     },
     "output_type": "execute_result"
    }
   ],
   "source": [
    "trainX"
   ]
  },
  {
   "cell_type": "code",
   "execution_count": 22,
   "metadata": {
    "colab": {
     "base_uri": "https://localhost:8080/"
    },
    "id": "H7d1G58RfL90",
    "outputId": "433a3f29-b602-4067-c404-b00222d31641"
   },
   "outputs": [
    {
     "data": {
      "text/plain": [
       "array([[0., 0., 0., 0., 1., 0.],\n",
       "       [0., 0., 0., 0., 1., 0.],\n",
       "       [0., 0., 0., 0., 1., 0.],\n",
       "       ...,\n",
       "       [0., 1., 0., 0., 0., 0.],\n",
       "       [0., 1., 0., 0., 0., 0.],\n",
       "       [0., 1., 0., 0., 0., 0.]], dtype=float32)"
      ]
     },
     "execution_count": 22,
     "metadata": {
      "tags": []
     },
     "output_type": "execute_result"
    }
   ],
   "source": [
    "trainy"
   ]
  },
  {
   "cell_type": "markdown",
   "metadata": {
    "id": "5DWi5vaASzUx"
   },
   "source": []
  },
  {
   "cell_type": "code",
   "execution_count": 23,
   "metadata": {
    "colab": {
     "base_uri": "https://localhost:8080/"
    },
    "id": "2823waB8lks3",
    "outputId": "ea333a69-c69c-4036-a6b6-c95323ecf420"
   },
   "outputs": [
    {
     "data": {
      "text/plain": [
       "array([[[ 1, 11, 21],\n",
       "        [ 2, 21, 31],\n",
       "        [ 3, 31, 41],\n",
       "        [ 4, 41, 51],\n",
       "        [ 5, 51, 61],\n",
       "        [ 6, 61, 71],\n",
       "        [ 7, 71, 81],\n",
       "        [ 8, 81, 91]]])"
      ]
     },
     "execution_count": 23,
     "metadata": {
      "tags": []
     },
     "output_type": "execute_result"
    }
   ],
   "source": [
    "a = np.array((1,2,3,4,5,6,7,8))\n",
    "b = np.array((11,21,31,41,51,61,71,81))\n",
    "c = np.array((21,31,41,51,61,71,81,91))\n",
    "np.dstack((a,b,c))"
   ]
  },
  {
   "cell_type": "code",
   "execution_count": 24,
   "metadata": {
    "colab": {
     "base_uri": "https://localhost:8080/"
    },
    "id": "XrK6z3vLZNqz",
    "outputId": "33dbf934-28d4-4939-fba8-ede5bb1fab78"
   },
   "outputs": [
    {
     "data": {
      "text/plain": [
       "(7352, 128, 9)"
      ]
     },
     "execution_count": 24,
     "metadata": {
      "tags": []
     },
     "output_type": "execute_result"
    }
   ],
   "source": [
    "trainX.shape"
   ]
  },
  {
   "cell_type": "code",
   "execution_count": 25,
   "metadata": {
    "id": "2c4EVdgSZ1bY"
   },
   "outputs": [],
   "source": [
    "df_activity=read_csv('/content/drive/My Drive/HARDataset/train/y_train.txt', header=None, delim_whitespace=True)"
   ]
  },
  {
   "cell_type": "code",
   "execution_count": 25,
   "metadata": {
    "id": "lPnfqXMIbWM4"
   },
   "outputs": [],
   "source": []
  },
  {
   "cell_type": "markdown",
   "metadata": {
    "id": "PU1CuCWHTbc9"
   },
   "source": [
    "# **3. Visualization**"
   ]
  },
  {
   "cell_type": "code",
   "execution_count": 26,
   "metadata": {
    "id": "BrsFl75JTbFm"
   },
   "outputs": [],
   "source": [
    "labels_to_activity = {1:\"Walking\",2:\"Walking Upstairs\",3:\"Walking Downstairs\",\n",
    "                    4:\"Sitting\",5:\"Standing\",6:\"Laying\"}\n",
    "\n",
    "def label_decoder(label):\n",
    "  return labels_to_activity[label]\n",
    "\n",
    "df_activity['activity'] = df_activity[0].apply(lambda x:label_decoder(x))"
   ]
  },
  {
   "cell_type": "code",
   "execution_count": 27,
   "metadata": {
    "colab": {
     "base_uri": "https://localhost:8080/"
    },
    "id": "VCaeGcJ-cb2n",
    "outputId": "02f19a74-afbc-487c-8fc1-2595992cb82c"
   },
   "outputs": [
    {
     "data": {
      "text/plain": [
       "Laying                1407\n",
       "Standing              1374\n",
       "Sitting               1286\n",
       "Walking               1226\n",
       "Walking Upstairs      1073\n",
       "Walking Downstairs     986\n",
       "Name: activity, dtype: int64"
      ]
     },
     "execution_count": 27,
     "metadata": {
      "tags": []
     },
     "output_type": "execute_result"
    }
   ],
   "source": [
    "df_activity['activity'].value_counts()"
   ]
  },
  {
   "cell_type": "code",
   "execution_count": 28,
   "metadata": {
    "colab": {
     "base_uri": "https://localhost:8080/",
     "height": 421
    },
    "id": "76_aoYBpgyOt",
    "outputId": "94b59a8e-a315-44ff-c79a-5c38e9a57706"
   },
   "outputs": [
    {
     "data": {
      "text/plain": [
       "Text(0.5, 1.0, 'Activity Data Distribution')"
      ]
     },
     "execution_count": 28,
     "metadata": {
      "tags": []
     },
     "output_type": "execute_result"
    },
    {
     "data": {
      "image/png": "[encoded data removed]",
      "text/plain": [
       "<Figure size 576x432 with 1 Axes>"
      ]
     },
     "metadata": {
      "needs_background": "light",
      "tags": []
     },
     "output_type": "display_data"
    }
   ],
   "source": [
    "val_counts = df_activity['activity'].value_counts()\n",
    "\n",
    "plt.figure(figsize=(8,6))\n",
    "plt.bar(val_counts.index,val_counts.values)\n",
    "plt.xlabel(\"Activity Label\")\n",
    "plt.ylabel(\"Value Counts\")\n",
    "plt.title(\"Activity Data Distribution\")"
   ]
  },
  {
   "cell_type": "code",
   "execution_count": 29,
   "metadata": {
    "id": "q-ULQADrhPLL"
   },
   "outputs": [],
   "source": [
    "body_acc_x=read_csv('body_acc_x_train.txt', header=None, delim_whitespace=True)\n",
    "body_acc_y=read_csv('body_acc_y_train.txt', header=None, delim_whitespace=True)\n",
    "body_acc_z=read_csv('body_acc_z_train.txt', header=None, delim_whitespace=True)\n",
    "total_acc_x=read_csv('total_acc_x_train.txt', header=None, delim_whitespace=True)\n",
    "total_acc_y=read_csv('total_acc_y_train.txt', header=None, delim_whitespace=True)\n",
    "total_acc_z=read_csv('total_acc_z_train.txt', header=None, delim_whitespace=True)\n",
    "body_gyro_x=read_csv('body_gyro_x_train.txt', header=None, delim_whitespace=True)\n",
    "body_gyro_y=read_csv('body_gyro_y_train.txt', header=None, delim_whitespace=True)\n",
    "body_gyro_z=read_csv('body_gyro_z_train.txt', header=None, delim_whitespace=True)"
   ]
  },
  {
   "cell_type": "code",
   "execution_count": 30,
   "metadata": {
    "colab": {
     "base_uri": "https://localhost:8080/"
    },
    "id": "2iPSxlk6iCi5",
    "outputId": "d9a284a6-6d16-4fcc-8ddd-a4f8afadfc66"
   },
   "outputs": [
    {
     "data": {
      "text/plain": [
       "(7352, 128, 9)"
      ]
     },
     "execution_count": 30,
     "metadata": {
      "tags": []
     },
     "output_type": "execute_result"
    }
   ],
   "source": [
    "df_v_all = np.dstack((body_acc_x,body_acc_y,body_acc_z,total_acc_x,total_acc_y,total_acc_z,body_gyro_x,body_gyro_y,body_gyro_z))\n",
    "df_v_all.shape"
   ]
  },
  {
   "cell_type": "markdown",
   "metadata": {
    "id": "dpdoTji8hRXy"
   },
   "source": []
  },
  {
   "cell_type": "markdown",
   "metadata": {
    "id": "MEO4VsFIT4yD"
   },
   "source": [
    "# **Model 1**"
   ]
  },
  {
   "cell_type": "markdown",
   "metadata": {
    "id": "-23Y9xraZI9v"
   },
   "source": [
    "*AT LEAST 2 LSTM layers with 90 units*\n",
    "\n",
    "*Add one layer of dropout*\n",
    "\n",
    "*Use AT LEAST 2 dense layers (one with 90 units and one for output)*\n"
   ]
  },
  {
   "cell_type": "markdown",
   "metadata": {
    "id": "CIizWPgAT_ls"
   },
   "source": [
    "### **1.1 Model-1 Building**"
   ]
  },
  {
   "cell_type": "code",
   "execution_count": 31,
   "metadata": {
    "colab": {
     "base_uri": "https://localhost:8080/"
    },
    "id": "HLD5sVZ_MKUn",
    "outputId": "44b29f9e-fceb-40df-e91c-de76307b2866"
   },
   "outputs": [
    {
     "name": "stdout",
     "output_type": "stream",
     "text": [
      "128 9 6\n"
     ]
    }
   ],
   "source": [
    "n_timesteps, n_features, n_outputs = trainX.shape[1], trainX.shape[2], trainy.shape[1]\n",
    "print(n_timesteps,n_features,n_outputs)\n",
    "epochs=20\n",
    "batch_size=64\n",
    "verbose=1\n",
    "model_1 = Sequential()\n",
    "model_1.add(LSTM(90, input_shape=(n_timesteps,n_features),return_sequences=True))\n",
    "model_1.add(Dropout(0.1))\n",
    "model_1.add(LSTM(90, input_shape=(n_timesteps,n_features)))\n",
    "model_1.add(Dropout(0.5))\n",
    "model_1.add(Dense(90, activation='relu'))\n",
    "model_1.add(Dropout(0.5))\n",
    "model_1.add(Dense(n_outputs, activation='softmax'))\n",
    " "
   ]
  },
  {
   "cell_type": "markdown",
   "metadata": {
    "id": "75r5wQyaTqmR"
   },
   "source": [
    "## DROP OUT :\n",
    "\n",
    "\n",
    "```\n",
    "#1 Drop Out Layer Prevents Overfitting , Also prevents complex co-adaptations\n",
    "#2 Drop Out Needs to be added - After LSTM Layers\n",
    "#2 Drop Makes the Model Robust\n",
    "\n",
    "** Drop out Should be places Outside the LSTM Layers, so that drop outs does not reduce learning or does not make learning certain things**\n",
    "Some Recent Research Shown good results , when Drop Out is added in LSTM Layers.\n",
    "with Low Dropout values (0.1,0.2)\n",
    "But Generally Drop Outs are added at the end of block or LSTM or RNN Layers\n",
    "```\n",
    "\n"
   ]
  },
  {
   "cell_type": "markdown",
   "metadata": {
    "id": "c2YSPoECUGR5"
   },
   "source": [
    "### **1.2 Model-1 Compilation** "
   ]
  },
  {
   "cell_type": "code",
   "execution_count": 32,
   "metadata": {
    "id": "glw9DXL-SYDC"
   },
   "outputs": [],
   "source": [
    "model_1.compile(loss='categorical_crossentropy', optimizer='adam', metrics=['accuracy'])"
   ]
  },
  {
   "cell_type": "markdown",
   "metadata": {
    "id": "Pbnwb5OwUYiF"
   },
   "source": [
    "### **1.3 Model-1 Training**"
   ]
  },
  {
   "cell_type": "code",
   "execution_count": 33,
   "metadata": {
    "colab": {
     "base_uri": "https://localhost:8080/"
    },
    "id": "a4WVDhwlSdSF",
    "outputId": "d93ffd57-b320-4ba5-a100-d949584e30b6"
   },
   "outputs": [
    {
     "name": "stdout",
     "output_type": "stream",
     "text": [
      "Epoch 1/20\n",
      "115/115 [==============================] - 11s 15ms/step - loss: 1.4064 - accuracy: 0.4167\n",
      "Epoch 2/20\n",
      "115/115 [==============================] - 2s 14ms/step - loss: 0.7755 - accuracy: 0.6613\n",
      "Epoch 3/20\n",
      "115/115 [==============================] - 2s 14ms/step - loss: 0.6492 - accuracy: 0.7518\n",
      "Epoch 4/20\n",
      "115/115 [==============================] - 2s 14ms/step - loss: 0.3695 - accuracy: 0.8722\n",
      "Epoch 5/20\n",
      "115/115 [==============================] - 2s 14ms/step - loss: 0.3025 - accuracy: 0.8984\n",
      "Epoch 6/20\n",
      "115/115 [==============================] - 2s 14ms/step - loss: 0.2242 - accuracy: 0.9294\n",
      "Epoch 7/20\n",
      "115/115 [==============================] - 2s 14ms/step - loss: 0.1693 - accuracy: 0.9424\n",
      "Epoch 8/20\n",
      "115/115 [==============================] - 2s 14ms/step - loss: 0.1418 - accuracy: 0.9493\n",
      "Epoch 9/20\n",
      "115/115 [==============================] - 2s 14ms/step - loss: 0.1595 - accuracy: 0.9413\n",
      "Epoch 10/20\n",
      "115/115 [==============================] - 2s 14ms/step - loss: 0.2543 - accuracy: 0.9113\n",
      "Epoch 11/20\n",
      "115/115 [==============================] - 2s 14ms/step - loss: 0.1751 - accuracy: 0.9396\n",
      "Epoch 12/20\n",
      "115/115 [==============================] - 2s 14ms/step - loss: 0.1495 - accuracy: 0.9445\n",
      "Epoch 13/20\n",
      "115/115 [==============================] - 2s 14ms/step - loss: 0.1535 - accuracy: 0.9386\n",
      "Epoch 14/20\n",
      "115/115 [==============================] - 2s 14ms/step - loss: 0.1347 - accuracy: 0.9494\n",
      "Epoch 15/20\n",
      "115/115 [==============================] - 2s 14ms/step - loss: 0.1373 - accuracy: 0.9499\n",
      "Epoch 16/20\n",
      "115/115 [==============================] - 2s 14ms/step - loss: 0.1294 - accuracy: 0.9505\n",
      "Epoch 17/20\n",
      "115/115 [==============================] - 2s 14ms/step - loss: 0.1445 - accuracy: 0.9430\n",
      "Epoch 18/20\n",
      "115/115 [==============================] - 2s 14ms/step - loss: 0.1123 - accuracy: 0.9526\n",
      "Epoch 19/20\n",
      "115/115 [==============================] - 2s 14ms/step - loss: 0.1203 - accuracy: 0.9478\n",
      "Epoch 20/20\n",
      "115/115 [==============================] - 2s 14ms/step - loss: 0.1165 - accuracy: 0.9487\n"
     ]
    }
   ],
   "source": [
    "history = model_1.fit(trainX, trainy, epochs=epochs, batch_size=batch_size, verbose=verbose)"
   ]
  },
  {
   "cell_type": "markdown",
   "metadata": {
    "id": "iUYoP4WEScU5"
   },
   "source": []
  },
  {
   "cell_type": "markdown",
   "metadata": {
    "id": "AehTEY7WUgIz"
   },
   "source": [
    "### **1.4 Model-1 Evaluation**"
   ]
  },
  {
   "cell_type": "code",
   "execution_count": 34,
   "metadata": {
    "colab": {
     "base_uri": "https://localhost:8080/"
    },
    "id": "P0IIncR_YgPb",
    "outputId": "ad0e5c4b-a59a-4958-cbf7-5d2c409a6b32"
   },
   "outputs": [
    {
     "name": "stdout",
     "output_type": "stream",
     "text": [
      "47/47 [==============================] - 1s 7ms/step - loss: 0.3491 - accuracy: 0.9199\n",
      "Test loss for Keras ReLU : 0.3490807116031647 / Test accuracy: 0.9199185371398926\n"
     ]
    }
   ],
   "source": [
    "accuracy = model_1.evaluate(testX, testy, batch_size=batch_size, verbose=1)\n",
    "print(f'Test loss for Keras ReLU : {accuracy[0]} / Test accuracy: {accuracy[1]}')\n"
   ]
  },
  {
   "cell_type": "code",
   "execution_count": 35,
   "metadata": {
    "colab": {
     "base_uri": "https://localhost:8080/"
    },
    "id": "Ty8uY0hdbDZb",
    "outputId": "63985167-8f87-4a23-d790-c7c8c51a4d01"
   },
   "outputs": [
    {
     "name": "stdout",
     "output_type": "stream",
     "text": [
      "Final training loss \t 0.11873096972703934\n",
      "Final training accuracy  0.948993444442749\n"
     ]
    }
   ],
   "source": [
    "print('Final training loss \\t', history.history['loss'][-1])\n",
    "print('Final training accuracy ', history.history['accuracy'][-1])"
   ]
  },
  {
   "cell_type": "code",
   "execution_count": 36,
   "metadata": {
    "colab": {
     "base_uri": "https://localhost:8080/",
     "height": 573
    },
    "id": "lpTRarDibWvs",
    "outputId": "a769222e-9d9f-4827-dfae-1ac3db8456c9"
   },
   "outputs": [
    {
     "data": {
      "image/png": "[encoded data removed]",
      "text/plain": [
       "<Figure size 432x288 with 1 Axes>"
      ]
     },
     "metadata": {
      "needs_background": "light",
      "tags": []
     },
     "output_type": "display_data"
    },
    {
     "data": {
      "image/png": "[encoded data removed]",
      "text/plain": [
       "<Figure size 432x288 with 1 Axes>"
      ]
     },
     "metadata": {
      "needs_background": "light",
      "tags": []
     },
     "output_type": "display_data"
    }
   ],
   "source": [
    "# Visualize model history\n",
    "plt.plot(history.history['accuracy'], label='Training accuracy')\n",
    "plt.title(' Model with Regularization ReLU training / validation accuracies')\n",
    "plt.ylabel('Accuracy')\n",
    "plt.xlabel('Epoch')\n",
    "plt.legend(loc=\"upper left\")\n",
    "plt.show()\n",
    "\n",
    "plt.plot(history.history['loss'], label='Training loss')\n",
    "plt.title(' ReLU training / validation loss values')\n",
    "plt.ylabel('Loss value')\n",
    "plt.xlabel('Epoch')\n",
    "plt.legend(loc=\"upper left\")\n",
    "plt.show()"
   ]
  },
  {
   "cell_type": "code",
   "execution_count": 37,
   "metadata": {
    "id": "yY4j6yMEbFJ7"
   },
   "outputs": [],
   "source": [
    "y_pred = model_1.predict(testX)"
   ]
  },
  {
   "cell_type": "code",
   "execution_count": 38,
   "metadata": {
    "colab": {
     "base_uri": "https://localhost:8080/",
     "height": 282
    },
    "id": "uERzuaGIJoNL",
    "outputId": "d4df270c-c1ca-416c-f63c-0f1f8207586a"
   },
   "outputs": [
    {
     "data": {
      "text/plain": [
       "<matplotlib.axes._subplots.AxesSubplot at 0x7fd5f43400f0>"
      ]
     },
     "execution_count": 38,
     "metadata": {
      "tags": []
     },
     "output_type": "execute_result"
    },
    {
     "data": {
      "image/png": "[encoded data removed]",
      "text/plain": [
       "<Figure size 432x288 with 2 Axes>"
      ]
     },
     "metadata": {
      "needs_background": "light",
      "tags": []
     },
     "output_type": "display_data"
    }
   ],
   "source": [
    "b = np.zeros_like(y_pred)\n",
    "b[np.arange(len(y_pred)), y_pred.argmax(1)] = 1\n",
    "\n",
    "pred_label = tf.argmax(b, axis = 1)+1\n",
    "\n",
    "c = np.zeros_like(testy)\n",
    "c[np.arange(len(testy)), testy.argmax(1)] = 1\n",
    "act_label = tf.argmax(c, axis = 1)+1\n",
    "\n",
    "\n",
    "cf_matrix = confusion_matrix(act_label, pred_label)\n",
    "\n",
    "  \n",
    "sns.heatmap(cf_matrix, annot=True,cmap='Blues')"
   ]
  },
  {
   "cell_type": "markdown",
   "metadata": {
    "id": "uxQgHfHlUlSD"
   },
   "source": [
    "# **Model 2**"
   ]
  },
  {
   "cell_type": "markdown",
   "metadata": {
    "id": "69oV959VUwGk"
   },
   "source": [
    "### **1. Model-2 Building**"
   ]
  },
  {
   "cell_type": "code",
   "execution_count": 39,
   "metadata": {
    "colab": {
     "base_uri": "https://localhost:8080/"
    },
    "id": "9phte4aLK3uc",
    "outputId": "caa0dbeb-5571-441d-f934-940dc124bf21"
   },
   "outputs": [
    {
     "name": "stdout",
     "output_type": "stream",
     "text": [
      "/content/drive/My Drive/HARDataset/train/Inertial Signals/total_acc_x_train.txt\n",
      "/content/drive/My Drive/HARDataset/train/Inertial Signals/total_acc_y_train.txt\n",
      "/content/drive/My Drive/HARDataset/train/Inertial Signals/total_acc_z_train.txt\n",
      "/content/drive/My Drive/HARDataset/train/Inertial Signals/body_acc_x_train.txt\n",
      "/content/drive/My Drive/HARDataset/train/Inertial Signals/body_acc_y_train.txt\n",
      "/content/drive/My Drive/HARDataset/train/Inertial Signals/body_acc_z_train.txt\n",
      "/content/drive/My Drive/HARDataset/train/Inertial Signals/body_gyro_x_train.txt\n",
      "/content/drive/My Drive/HARDataset/train/Inertial Signals/body_gyro_y_train.txt\n",
      "/content/drive/My Drive/HARDataset/train/Inertial Signals/body_gyro_z_train.txt\n",
      "/content/drive/My Drive/HARDataset/train/y_train.txt\n",
      "(7352, 128, 9) (7352, 1)\n",
      "/content/drive/My Drive/HARDataset/test/Inertial Signals/total_acc_x_test.txt\n",
      "/content/drive/My Drive/HARDataset/test/Inertial Signals/total_acc_y_test.txt\n",
      "/content/drive/My Drive/HARDataset/test/Inertial Signals/total_acc_z_test.txt\n",
      "/content/drive/My Drive/HARDataset/test/Inertial Signals/body_acc_x_test.txt\n",
      "/content/drive/My Drive/HARDataset/test/Inertial Signals/body_acc_y_test.txt\n",
      "/content/drive/My Drive/HARDataset/test/Inertial Signals/body_acc_z_test.txt\n",
      "/content/drive/My Drive/HARDataset/test/Inertial Signals/body_gyro_x_test.txt\n",
      "/content/drive/My Drive/HARDataset/test/Inertial Signals/body_gyro_y_test.txt\n",
      "/content/drive/My Drive/HARDataset/test/Inertial Signals/body_gyro_z_test.txt\n",
      "/content/drive/My Drive/HARDataset/test/y_test.txt\n",
      "(2947, 128, 9) (2947, 1)\n",
      "(7352, 128, 9) (7352, 6) (2947, 128, 9) (2947, 6)\n"
     ]
    }
   ],
   "source": [
    "trainX1, trainy1, testX1, testy1 = load_dataset()"
   ]
  },
  {
   "cell_type": "code",
   "execution_count": 40,
   "metadata": {
    "colab": {
     "base_uri": "https://localhost:8080/"
    },
    "id": "zPcVYps2KteX",
    "outputId": "c4765bcb-73c4-4102-a845-a5e7c8b49e17"
   },
   "outputs": [
    {
     "name": "stdout",
     "output_type": "stream",
     "text": [
      "TimeSteps 128 9 6\n"
     ]
    }
   ],
   "source": [
    "Model_t3 = models.Sequential()\n",
    "    \n",
    "n_timesteps, n_features, n_outputs = trainX.shape[1], trainX.shape[2], trainy.shape[1]\n",
    "print(\"TimeSteps\",n_timesteps, n_features, n_outputs)\n",
    "n_steps, n_length = 128, 1\n",
    "trainX1 = trainX1.reshape((trainX1.shape[0], n_steps, 1, n_length, n_features))\n",
    "testX1 = testX1.reshape((testX1.shape[0], n_steps, 1, n_length, n_features))\n",
    "\n",
    "\n",
    "Model_t3.add(layers.Conv2D(256, (1,3), activation=\"relu\", input_shape=(trainX1.shape[0], 128, n_length, n_features),padding=\"same\" ))\n",
    "Model_t3.add(layers.Conv2D(256, (1,3), activation=\"relu\", input_shape=(trainX1.shape[0], 128, n_length, n_features),padding=\"same\" ))\n",
    "   \n",
    "Model_t3.add(Flatten())\n",
    "model_t4 = Sequential()\n",
    "model_t4.add(TimeDistributed(Model_t3))\n",
    "model_t4.add(LSTM(80,input_shape=(n_timesteps,n_features),return_sequences=True))\n",
    "model_t4.add(LSTM(80,input_shape=(n_timesteps,n_features),return_sequences=True))\n",
    "model_t4.add(Flatten())\n",
    "model_t4.add(Dense(128, activation='relu'))\n",
    "model_t4.add(Dense(n_outputs, activation='softmax'))\n"
   ]
  },
  {
   "cell_type": "code",
   "execution_count": 41,
   "metadata": {
    "colab": {
     "base_uri": "https://localhost:8080/"
    },
    "id": "_hJIY96dOwZw",
    "outputId": "65c97474-ed72-42e3-dc0b-d9841c83423c"
   },
   "outputs": [
    {
     "data": {
      "text/plain": [
       "(7352, 128, 9)"
      ]
     },
     "execution_count": 41,
     "metadata": {
      "tags": []
     },
     "output_type": "execute_result"
    }
   ],
   "source": [
    "trainX.shape"
   ]
  },
  {
   "cell_type": "markdown",
   "metadata": {
    "id": "XO0_-8yVLgQ6"
   },
   "source": [
    "### **2. Model-2 Compilation**"
   ]
  },
  {
   "cell_type": "code",
   "execution_count": 42,
   "metadata": {
    "id": "lWeqBafnLC_J"
   },
   "outputs": [],
   "source": [
    "model_t4.compile(loss='categorical_crossentropy', optimizer='adam', metrics=['accuracy'])"
   ]
  },
  {
   "cell_type": "markdown",
   "metadata": {
    "id": "-S2JIstcL2aj"
   },
   "source": [
    "### **3. Model-2 Training**"
   ]
  },
  {
   "cell_type": "code",
   "execution_count": 43,
   "metadata": {
    "colab": {
     "base_uri": "https://localhost:8080/"
    },
    "id": "OgAieugXLzRj",
    "outputId": "f6d3b6d4-b11f-4db2-90b2-076200f05f54"
   },
   "outputs": [
    {
     "name": "stdout",
     "output_type": "stream",
     "text": [
      "Epoch 1/20\n",
      "WARNING:tensorflow:Model was constructed with shape (None, 7352, 128, 1, 9) for input KerasTensor(type_spec=TensorSpec(shape=(None, 7352, 128, 1, 9), dtype=tf.float32, name='conv2d_input'), name='conv2d_input', description=\"created by layer 'conv2d_input'\"), but it was called on an input with incompatible shape (None, 1, 1, 9).\n",
      "WARNING:tensorflow:Model was constructed with shape (None, 7352, 128, 1, 9) for input KerasTensor(type_spec=TensorSpec(shape=(None, 7352, 128, 1, 9), dtype=tf.float32, name='conv2d_input'), name='conv2d_input', description=\"created by layer 'conv2d_input'\"), but it was called on an input with incompatible shape (None, 1, 1, 9).\n",
      "WARNING:tensorflow:Model was constructed with shape (None, 7352, 128, 1, 9) for input KerasTensor(type_spec=TensorSpec(shape=(None, 7352, 128, 1, 9), dtype=tf.float32, name='conv2d_input'), name='conv2d_input', description=\"created by layer 'conv2d_input'\"), but it was called on an input with incompatible shape (None, 1, 1, 9).\n",
      "WARNING:tensorflow:Model was constructed with shape (None, 7352, 128, 1, 9) for input KerasTensor(type_spec=TensorSpec(shape=(None, 7352, 128, 1, 9), dtype=tf.float32, name='conv2d_input'), name='conv2d_input', description=\"created by layer 'conv2d_input'\"), but it was called on an input with incompatible shape (None, 1, 1, 9).\n",
      "WARNING:tensorflow:Model was constructed with shape (None, 7352, 128, 1, 9) for input KerasTensor(type_spec=TensorSpec(shape=(None, 7352, 128, 1, 9), dtype=tf.float32, name='conv2d_input'), name='conv2d_input', description=\"created by layer 'conv2d_input'\"), but it was called on an input with incompatible shape (None, 1, 1, 9).\n",
      "WARNING:tensorflow:Model was constructed with shape (None, 7352, 128, 1, 9) for input KerasTensor(type_spec=TensorSpec(shape=(None, 7352, 128, 1, 9), dtype=tf.float32, name='conv2d_input'), name='conv2d_input', description=\"created by layer 'conv2d_input'\"), but it was called on an input with incompatible shape (None, 1, 1, 9).\n",
      "115/115 [==============================] - 6s 22ms/step - loss: 0.8269 - accuracy: 0.6419\n",
      "Epoch 2/20\n",
      "115/115 [==============================] - 2s 19ms/step - loss: 0.2014 - accuracy: 0.9241\n",
      "Epoch 3/20\n",
      "115/115 [==============================] - 2s 19ms/step - loss: 0.1492 - accuracy: 0.9379\n",
      "Epoch 4/20\n",
      "115/115 [==============================] - 2s 19ms/step - loss: 0.1644 - accuracy: 0.9359\n",
      "Epoch 5/20\n",
      "115/115 [==============================] - 2s 19ms/step - loss: 0.1390 - accuracy: 0.9448\n",
      "Epoch 6/20\n",
      "115/115 [==============================] - 2s 19ms/step - loss: 0.1179 - accuracy: 0.9507\n",
      "Epoch 7/20\n",
      "115/115 [==============================] - 2s 19ms/step - loss: 0.1022 - accuracy: 0.9581\n",
      "Epoch 8/20\n",
      "115/115 [==============================] - 2s 19ms/step - loss: 0.1039 - accuracy: 0.9542\n",
      "Epoch 9/20\n",
      "115/115 [==============================] - 2s 19ms/step - loss: 0.1054 - accuracy: 0.9513\n",
      "Epoch 10/20\n",
      "115/115 [==============================] - 2s 19ms/step - loss: 0.0957 - accuracy: 0.9594\n",
      "Epoch 11/20\n",
      "115/115 [==============================] - 2s 20ms/step - loss: 0.0954 - accuracy: 0.9597\n",
      "Epoch 12/20\n",
      "115/115 [==============================] - 2s 19ms/step - loss: 0.0887 - accuracy: 0.9626\n",
      "Epoch 13/20\n",
      "115/115 [==============================] - 2s 19ms/step - loss: 0.0896 - accuracy: 0.9571\n",
      "Epoch 14/20\n",
      "115/115 [==============================] - 2s 19ms/step - loss: 0.1190 - accuracy: 0.9542\n",
      "Epoch 15/20\n",
      "115/115 [==============================] - 2s 19ms/step - loss: 0.0978 - accuracy: 0.9548\n",
      "Epoch 16/20\n",
      "115/115 [==============================] - 2s 19ms/step - loss: 0.1043 - accuracy: 0.9544\n",
      "Epoch 17/20\n",
      "115/115 [==============================] - 2s 20ms/step - loss: 0.1013 - accuracy: 0.9541\n",
      "Epoch 18/20\n",
      "115/115 [==============================] - 2s 20ms/step - loss: 0.0783 - accuracy: 0.9636\n",
      "Epoch 19/20\n",
      "115/115 [==============================] - 2s 19ms/step - loss: 0.0793 - accuracy: 0.9628\n",
      "Epoch 20/20\n",
      "115/115 [==============================] - 2s 20ms/step - loss: 0.0786 - accuracy: 0.9625\n"
     ]
    }
   ],
   "source": [
    "history = model_t4.fit(trainX1, trainy1, epochs=epochs, batch_size=batch_size, verbose=verbose)"
   ]
  },
  {
   "cell_type": "markdown",
   "metadata": {
    "id": "UZz2OSw5L_nw"
   },
   "source": []
  },
  {
   "cell_type": "markdown",
   "metadata": {
    "id": "2d9XpmqWMAmm"
   },
   "source": [
    "### **4. Model-2 Evaluation**"
   ]
  },
  {
   "cell_type": "code",
   "execution_count": 44,
   "metadata": {
    "colab": {
     "base_uri": "https://localhost:8080/"
    },
    "id": "MNoWE4NgMj2_",
    "outputId": "ee60cdab-7092-46b1-c853-e1553bf65502"
   },
   "outputs": [
    {
     "name": "stdout",
     "output_type": "stream",
     "text": [
      "WARNING:tensorflow:Model was constructed with shape (None, 7352, 128, 1, 9) for input KerasTensor(type_spec=TensorSpec(shape=(None, 7352, 128, 1, 9), dtype=tf.float32, name='conv2d_input'), name='conv2d_input', description=\"created by layer 'conv2d_input'\"), but it was called on an input with incompatible shape (None, 1, 1, 9).\n",
      "WARNING:tensorflow:Model was constructed with shape (None, 7352, 128, 1, 9) for input KerasTensor(type_spec=TensorSpec(shape=(None, 7352, 128, 1, 9), dtype=tf.float32, name='conv2d_input'), name='conv2d_input', description=\"created by layer 'conv2d_input'\"), but it was called on an input with incompatible shape (None, 1, 1, 9).\n",
      "47/47 [==============================] - 1s 8ms/step - loss: 0.8421 - accuracy: 0.9094\n",
      "Test loss for Keras ReLU : 0.8421382904052734 / Test accuracy: 0.9093993902206421\n"
     ]
    }
   ],
   "source": [
    "accuracy = model_t4.evaluate(testX1, testy1, batch_size=batch_size, verbose=verbose)\n",
    "print(f'Test loss for Keras ReLU : {accuracy[0]} / Test accuracy: {accuracy[1]}')\n"
   ]
  },
  {
   "cell_type": "code",
   "execution_count": 45,
   "metadata": {
    "colab": {
     "base_uri": "https://localhost:8080/",
     "height": 573
    },
    "id": "2b8_KVw-M4tb",
    "outputId": "95c0b412-1b37-4d7f-97db-baf878f7307e"
   },
   "outputs": [
    {
     "data": {
      "image/png": "[encoded data removed]",
      "text/plain": [
       "<Figure size 432x288 with 1 Axes>"
      ]
     },
     "metadata": {
      "needs_background": "light",
      "tags": []
     },
     "output_type": "display_data"
    },
    {
     "data": {
      "image/png": "[encoded data removed]",
      "text/plain": [
       "<Figure size 432x288 with 1 Axes>"
      ]
     },
     "metadata": {
      "needs_background": "light",
      "tags": []
     },
     "output_type": "display_data"
    }
   ],
   "source": [
    "# Visualize model history\n",
    "plt.plot(history.history['accuracy'], label='Training accuracy')\n",
    "plt.title(' Model with Regularization ReLU training / validation accuracies')\n",
    "plt.ylabel('Accuracy')\n",
    "plt.xlabel('Epoch')\n",
    "plt.legend(loc=\"upper left\")\n",
    "plt.show()\n",
    "\n",
    "plt.plot(history.history['loss'], label='Training loss')\n",
    "plt.title(' ReLU training / validation loss values')\n",
    "plt.ylabel('Loss value')\n",
    "plt.xlabel('Epoch')\n",
    "plt.legend(loc=\"upper left\")\n",
    "plt.show()"
   ]
  },
  {
   "cell_type": "code",
   "execution_count": 45,
   "metadata": {
    "id": "WznTN770NRa0"
   },
   "outputs": [],
   "source": []
  },
  {
   "cell_type": "code",
   "execution_count": 46,
   "metadata": {
    "colab": {
     "base_uri": "https://localhost:8080/",
     "height": 336
    },
    "id": "wclW1s2CMEAA",
    "outputId": "c67cd314-877f-4f4f-b1c5-fe8c54bf2c05"
   },
   "outputs": [
    {
     "name": "stdout",
     "output_type": "stream",
     "text": [
      "WARNING:tensorflow:Model was constructed with shape (None, 7352, 128, 1, 9) for input KerasTensor(type_spec=TensorSpec(shape=(None, 7352, 128, 1, 9), dtype=tf.float32, name='conv2d_input'), name='conv2d_input', description=\"created by layer 'conv2d_input'\"), but it was called on an input with incompatible shape (None, 1, 1, 9).\n",
      "WARNING:tensorflow:Model was constructed with shape (None, 7352, 128, 1, 9) for input KerasTensor(type_spec=TensorSpec(shape=(None, 7352, 128, 1, 9), dtype=tf.float32, name='conv2d_input'), name='conv2d_input', description=\"created by layer 'conv2d_input'\"), but it was called on an input with incompatible shape (None, 1, 1, 9).\n"
     ]
    },
    {
     "data": {
      "text/plain": [
       "<matplotlib.axes._subplots.AxesSubplot at 0x7fd5de260748>"
      ]
     },
     "execution_count": 46,
     "metadata": {
      "tags": []
     },
     "output_type": "execute_result"
    },
    {
     "data": {
      "image/png": "[encoded data removed]",
      "text/plain": [
       "<Figure size 432x288 with 2 Axes>"
      ]
     },
     "metadata": {
      "needs_background": "light",
      "tags": []
     },
     "output_type": "display_data"
    }
   ],
   "source": [
    "\n",
    "y_pred = model_t4.predict(testX1)\n",
    "\n",
    "b = np.zeros_like(y_pred)\n",
    "b[np.arange(len(y_pred)), y_pred.argmax(1)] = 1\n",
    "\n",
    "pred_label = tf.argmax(b, axis = 1)+1\n",
    "\n",
    "c = np.zeros_like(testy1)\n",
    "c[np.arange(len(testy1)), testy1.argmax(1)] = 1\n",
    "act_label = tf.argmax(c, axis = 1)+1\n",
    "\n",
    "\n",
    "cf_matrix = confusion_matrix(act_label, pred_label)\n",
    "\n",
    "  \n",
    "sns.heatmap(cf_matrix, annot=True)\n"
   ]
  },
  {
   "cell_type": "markdown",
   "metadata": {
    "id": "tL4mx33BUxdK"
   },
   "source": []
  },
  {
   "cell_type": "markdown",
   "metadata": {
    "id": "TLiHygejVYls"
   },
   "source": []
  },
  {
   "cell_type": "markdown",
   "metadata": {
    "id": "JDInHW9iPPYK"
   },
   "source": []
  }
 ],
 "metadata": {
  "accelerator": "GPU",
  "colab": {
   "collapsed_sections": [],
   "name": "Grp160-Assign2.ipynb",
   "provenance": [],
   "toc_visible": true
  },
  "kernelspec": {
   "display_name": "Python 3",
   "language": "python",
   "name": "python3"
  },
  "language_info": {
   "codemirror_mode": {
    "name": "ipython",
    "version": 3
   },
   "file_extension": ".py",
   "mimetype": "text/x-python",
   "name": "python",
   "nbconvert_exporter": "python",
   "pygments_lexer": "ipython3",
   "version": "3.7.6"
  }
 },
 "nbformat": 4,
 "nbformat_minor": 1
}
