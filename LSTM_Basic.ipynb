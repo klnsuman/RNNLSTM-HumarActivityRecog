{
  "nbformat": 4,
  "nbformat_minor": 0,
  "metadata": {
    "colab": {
      "name": "LSTM-Basic.ipynb",
      "provenance": [],
      "collapsed_sections": [],
      "authorship_tag": "ABX9TyP3LNhPajC66I/pdmqdr1Y9",
      "include_colab_link": true
    },
    "kernelspec": {
      "name": "python3",
      "display_name": "Python 3"
    },
    "language_info": {
      "name": "python"
    }
  },
  "cells": [
    {
      "cell_type": "markdown",
      "metadata": {
        "id": "view-in-github",
        "colab_type": "text"
      },
      "source": [
        "<a href=\"https://colab.research.google.com/github/klnsuman/RNNLSTM-HumarActivityRecog/blob/main/LSTM_Basic.ipynb\" target=\"_parent\"><img src=\"https://colab.research.google.com/assets/colab-badge.svg\" alt=\"Open In Colab\"/></a>"
      ]
    },
    {
      "cell_type": "code",
      "metadata": {
        "id": "h8zaY2Bb0DQ5"
      },
      "source": [
        "import pandas as pd\n",
        "import numpy as np\n",
        "import math\n",
        "from keras.models import Sequential\n",
        "from keras.layers import Dense,LSTM\n",
        "from sklearn.preprocessing import MinMaxScaler\n",
        "import matplotlib.pyplot as plt"
      ],
      "execution_count": 3,
      "outputs": []
    },
    {
      "cell_type": "code",
      "metadata": {
        "colab": {
          "base_uri": "https://localhost:8080/"
        },
        "id": "uhem4efK3LE4",
        "outputId": "d7967e97-0f13-4b5c-9252-1263c6fba2d0"
      },
      "source": [
        "features = (np.random.randint(10, size=(100, 1)))\n",
        "print(features.shape)"
      ],
      "execution_count": 4,
      "outputs": [
        {
          "output_type": "stream",
          "text": [
            "(100, 1)\n"
          ],
          "name": "stdout"
        }
      ]
    },
    {
      "cell_type": "code",
      "metadata": {
        "id": "IsJHlLlB3WuN"
      },
      "source": [
        "#features"
      ],
      "execution_count": 7,
      "outputs": []
    },
    {
      "cell_type": "code",
      "metadata": {
        "colab": {
          "base_uri": "https://localhost:8080/"
        },
        "id": "zx--QvK53jy6",
        "outputId": "2523c2e2-dfe0-4c7d-b158-a8c1671ff76d"
      },
      "source": [
        "training_dataset_length = math.ceil(len(features) * .75)\n",
        "print(training_dataset_length)"
      ],
      "execution_count": 9,
      "outputs": [
        {
          "output_type": "stream",
          "text": [
            "75\n"
          ],
          "name": "stdout"
        }
      ]
    },
    {
      "cell_type": "code",
      "metadata": {
        "id": "FbmwyXi7EBs7"
      },
      "source": [
        "#Scale the all of the data to be values between 0 and 1 \n",
        "scaler = MinMaxScaler(feature_range=(0, 1)) \n",
        "scaled_data = scaler.fit_transform(features)"
      ],
      "execution_count": 10,
      "outputs": []
    },
    {
      "cell_type": "code",
      "metadata": {
        "colab": {
          "base_uri": "https://localhost:8080/"
        },
        "id": "tWJWWedJEH8E",
        "outputId": "ca752486-9455-413b-b54d-13d587eb67fd"
      },
      "source": [
        "scaled_data[0:10].shape"
      ],
      "execution_count": 24,
      "outputs": [
        {
          "output_type": "execute_result",
          "data": {
            "text/plain": [
              "(10, 1)"
            ]
          },
          "metadata": {
            "tags": []
          },
          "execution_count": 24
        }
      ]
    },
    {
      "cell_type": "code",
      "metadata": {
        "id": "jebGufpVETjG"
      },
      "source": [
        "train_data = scaled_data[0:training_dataset_length  , : ]\n",
        "#Splitting the data\n",
        "x_train=[]\n",
        "y_train = []\n",
        "\n",
        "for i in range(10, len(train_data)):\n",
        "    x_train.append(train_data[i-10:i,0])\n",
        "    y_train.append(train_data[i,0])"
      ],
      "execution_count": 15,
      "outputs": []
    },
    {
      "cell_type": "code",
      "metadata": {
        "id": "lCyKPbTaN2F0"
      },
      "source": [
        "#Convert to numpy arrays\n",
        "x_train, y_train = np.array(x_train), np.array(y_train)\n",
        "\n",
        "#Reshape the data into 3-D array\n",
        "x_train = np.reshape(x_train, (x_train.shape[0],x_train.shape[1],1))"
      ],
      "execution_count": 25,
      "outputs": []
    },
    {
      "cell_type": "code",
      "metadata": {
        "id": "4XGZmzj8N9Zl"
      },
      "source": [
        "from keras.layers import Dropout\n",
        "\n",
        "# Initialising the RNN\n",
        "model = Sequential()\n",
        "\n",
        "model.add(LSTM(units = 50, return_sequences = True, input_shape = (x_train.shape[1], 1)))\n",
        "model.add(Dropout(0.2))\n",
        "\n",
        "# Adding a second LSTM layer and Dropout layer\n",
        "model.add(LSTM(units = 50, return_sequences = True))\n",
        "model.add(Dropout(0.2))\n",
        "\n",
        "# Adding a third LSTM layer and Dropout layer\n",
        "model.add(LSTM(units = 50, return_sequences = True))\n",
        "model.add(Dropout(0.2))\n",
        "\n",
        "# Adding a fourth LSTM layer and and Dropout layer\n",
        "model.add(LSTM(units = 50))\n",
        "model.add(Dropout(0.2))\n",
        "\n",
        "# Adding the output layer\n",
        "# For Full connection layer we use dense\n",
        "# As the output is 1D so we use unit=1\n",
        "model.add(Dense(units = 1))"
      ],
      "execution_count": 26,
      "outputs": []
    },
    {
      "cell_type": "code",
      "metadata": {
        "colab": {
          "base_uri": "https://localhost:8080/"
        },
        "id": "okOO2lM3P-eD",
        "outputId": "487cbf59-0e54-4844-caea-12922b5d7332"
      },
      "source": [
        "#compile and fit the model on 30 epochs\n",
        "model.compile(optimizer = 'adam', loss = 'mean_squared_error')\n",
        "model.fit(x_train, y_train, epochs = 30, batch_size = 50)"
      ],
      "execution_count": 27,
      "outputs": [
        {
          "output_type": "stream",
          "text": [
            "Epoch 1/30\n",
            "2/2 [==============================] - 6s 24ms/step - loss: 0.4007\n",
            "Epoch 2/30\n",
            "2/2 [==============================] - 0s 21ms/step - loss: 0.3490\n",
            "Epoch 3/30\n",
            "2/2 [==============================] - 0s 21ms/step - loss: 0.2716\n",
            "Epoch 4/30\n",
            "2/2 [==============================] - 0s 21ms/step - loss: 0.2119\n",
            "Epoch 5/30\n",
            "2/2 [==============================] - 0s 21ms/step - loss: 0.1427\n",
            "Epoch 6/30\n",
            "2/2 [==============================] - 0s 22ms/step - loss: 0.1152\n",
            "Epoch 7/30\n",
            "2/2 [==============================] - 0s 21ms/step - loss: 0.1384\n",
            "Epoch 8/30\n",
            "2/2 [==============================] - 0s 21ms/step - loss: 0.1226\n",
            "Epoch 9/30\n",
            "2/2 [==============================] - 0s 21ms/step - loss: 0.1104\n",
            "Epoch 10/30\n",
            "2/2 [==============================] - 0s 21ms/step - loss: 0.1079\n",
            "Epoch 11/30\n",
            "2/2 [==============================] - 0s 23ms/step - loss: 0.1018\n",
            "Epoch 12/30\n",
            "2/2 [==============================] - 0s 21ms/step - loss: 0.1105\n",
            "Epoch 13/30\n",
            "2/2 [==============================] - 0s 20ms/step - loss: 0.1118\n",
            "Epoch 14/30\n",
            "2/2 [==============================] - 0s 20ms/step - loss: 0.1096\n",
            "Epoch 15/30\n",
            "2/2 [==============================] - 0s 21ms/step - loss: 0.1071\n",
            "Epoch 16/30\n",
            "2/2 [==============================] - 0s 20ms/step - loss: 0.1010\n",
            "Epoch 17/30\n",
            "2/2 [==============================] - 0s 22ms/step - loss: 0.1028\n",
            "Epoch 18/30\n",
            "2/2 [==============================] - 0s 20ms/step - loss: 0.1042\n",
            "Epoch 19/30\n",
            "2/2 [==============================] - 0s 20ms/step - loss: 0.1018\n",
            "Epoch 20/30\n",
            "2/2 [==============================] - 0s 21ms/step - loss: 0.1117\n",
            "Epoch 21/30\n",
            "2/2 [==============================] - 0s 21ms/step - loss: 0.1033\n",
            "Epoch 22/30\n",
            "2/2 [==============================] - 0s 21ms/step - loss: 0.0906\n",
            "Epoch 23/30\n",
            "2/2 [==============================] - 0s 24ms/step - loss: 0.1041\n",
            "Epoch 24/30\n",
            "2/2 [==============================] - 0s 20ms/step - loss: 0.0977\n",
            "Epoch 25/30\n",
            "2/2 [==============================] - 0s 22ms/step - loss: 0.1129\n",
            "Epoch 26/30\n",
            "2/2 [==============================] - 0s 21ms/step - loss: 0.0949\n",
            "Epoch 27/30\n",
            "2/2 [==============================] - 0s 20ms/step - loss: 0.1082\n",
            "Epoch 28/30\n",
            "2/2 [==============================] - 0s 22ms/step - loss: 0.1072\n",
            "Epoch 29/30\n",
            "2/2 [==============================] - 0s 21ms/step - loss: 0.0997\n",
            "Epoch 30/30\n",
            "2/2 [==============================] - 0s 21ms/step - loss: 0.1035\n"
          ],
          "name": "stdout"
        },
        {
          "output_type": "execute_result",
          "data": {
            "text/plain": [
              "<tensorflow.python.keras.callbacks.History at 0x7f7323577710>"
            ]
          },
          "metadata": {
            "tags": []
          },
          "execution_count": 27
        }
      ]
    },
    {
      "cell_type": "code",
      "metadata": {
        "id": "cb5H18phQEbt"
      },
      "source": [
        "#Test data set\n",
        "test_data = scaled_data[training_dataset_length - 10: , : ]\n",
        "\n",
        "#splitting the x_test and y_test data sets\n",
        "x_test = []\n",
        "y_test =  features[training_dataset_length : , : ] \n",
        "\n",
        "for i in range(10,len(test_data)):\n",
        "    x_test.append(test_data[i-10:i,0])\n",
        "    \n",
        "#Convert x_test to a numpy array \n",
        "x_test = np.array(x_test)\n",
        "\n",
        "#Reshape the data into 3-D array\n",
        "x_test = np.reshape(x_test, (x_test.shape[0],x_test.shape[1],1))"
      ],
      "execution_count": 28,
      "outputs": []
    },
    {
      "cell_type": "code",
      "metadata": {
        "colab": {
          "base_uri": "https://localhost:8080/"
        },
        "id": "VtzCLCXUQKZK",
        "outputId": "c57dd6aa-6906-4acf-8ea2-93ee579a582f"
      },
      "source": [
        "#check predicted values\n",
        "predictions = model.predict(x_test) \n",
        "#Undo scaling\n",
        "predictions = scaler.inverse_transform(predictions)\n",
        "\n",
        "#Calculate RMSE score\n",
        "rmse=np.sqrt(np.mean(((predictions- y_test)**2)))\n",
        "rmse"
      ],
      "execution_count": 29,
      "outputs": [
        {
          "output_type": "execute_result",
          "data": {
            "text/plain": [
              "2.4300750471112056"
            ]
          },
          "metadata": {
            "tags": []
          },
          "execution_count": 29
        }
      ]
    },
    {
      "cell_type": "code",
      "metadata": {
        "colab": {
          "base_uri": "https://localhost:8080/"
        },
        "id": "utFvklbzQM1f",
        "outputId": "aaf7ecf5-8356-4380-f988-4a6486a03abe"
      },
      "source": [
        "predictions,y_test"
      ],
      "execution_count": 31,
      "outputs": [
        {
          "output_type": "execute_result",
          "data": {
            "text/plain": [
              "(array([[4.0278606],\n",
              "        [4.1279697],\n",
              "        [4.1616106],\n",
              "        [4.2174377],\n",
              "        [4.294409 ],\n",
              "        [4.4691973],\n",
              "        [4.6533523],\n",
              "        [4.323366 ],\n",
              "        [4.590905 ],\n",
              "        [4.9441423],\n",
              "        [4.8773108],\n",
              "        [4.460646 ],\n",
              "        [4.561405 ],\n",
              "        [4.511811 ],\n",
              "        [4.5621834],\n",
              "        [4.871298 ],\n",
              "        [4.739921 ],\n",
              "        [4.661842 ],\n",
              "        [4.8952723],\n",
              "        [4.8461323],\n",
              "        [4.4222326],\n",
              "        [4.2238064],\n",
              "        [4.0075755],\n",
              "        [3.6021285],\n",
              "        [3.6458726]], dtype=float32), array([[9],\n",
              "        [3],\n",
              "        [5],\n",
              "        [4],\n",
              "        [1],\n",
              "        [6],\n",
              "        [5],\n",
              "        [1],\n",
              "        [4],\n",
              "        [8],\n",
              "        [5],\n",
              "        [5],\n",
              "        [7],\n",
              "        [2],\n",
              "        [0],\n",
              "        [1],\n",
              "        [3],\n",
              "        [2],\n",
              "        [2],\n",
              "        [6],\n",
              "        [1],\n",
              "        [2],\n",
              "        [4],\n",
              "        [4],\n",
              "        [5]]))"
            ]
          },
          "metadata": {
            "tags": []
          },
          "execution_count": 31
        }
      ]
    }
  ]
}